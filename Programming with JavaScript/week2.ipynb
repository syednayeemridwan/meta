{
 "cells": [
  {
   "cell_type": "markdown",
   "metadata": {},
   "source": [
    "### Function"
   ]
  },
  {
   "cell_type": "markdown",
   "metadata": {},
   "source": [
    "```\n",
    "// Vanilla JavaScript Function\n",
    "function add(a, b) {\n",
    "    return a + b;\n",
    "};\n",
    "\n",
    "// Improved equialent Vanilla JavaScript Function\n",
    "var add = function(a, b) {\n",
    "    return a + b;\n",
    "};\n",
    "\n",
    "// Equivalent ES6 Arrow Function\n",
    "const add = (a, b) => a + b;\n",
    "\n",
    "// Calling the function\n",
    "console.log(add(3, 5)); // Output: 8\n",
    "\n",
    "```"
   ]
  },
  {
   "cell_type": "markdown",
   "metadata": {},
   "source": [
    "### Array"
   ]
  },
  {
   "cell_type": "markdown",
   "metadata": {},
   "source": [
    "```\n",
    "var fruits = ['Apple', 'Banana'];\n",
    "console.log(fruits.length);\n",
    "// 2\n",
    "var first = fruits[0];\n",
    "// Apple\n",
    "```"
   ]
  },
  {
   "cell_type": "markdown",
   "metadata": {},
   "source": [
    "### Object"
   ]
  },
  {
   "cell_type": "markdown",
   "metadata": {},
   "source": [
    "```\n",
    "let object = {\n",
    "\tname : \"Petya\",\n",
    "  \tage : 15\n",
    "};\n",
    "\n",
    "// another way\n",
    "let object = {};\n",
    "object[\"name\"] = \"Petya\";\n",
    "object[\"age\"] = 15;\n",
    "\n",
    "// old way\n",
    "var object = new Object();\n",
    "object.name = \"Petya\";\n",
    "object.age = 15;\n",
    "```"
   ]
  },
  {
   "cell_type": "markdown",
   "metadata": {},
   "source": [
    "# Try-Catch"
   ]
  },
  {
   "cell_type": "markdown",
   "metadata": {},
   "source": [
    "```\n",
    "try {\n",
    "    // code\n",
    "  throw new Error('Whoops!');\n",
    "}\n",
    "catch(err) {\n",
    "    // handle exception\n",
    "  console.log(\"Intentional thrown Error is caught\");\n",
    "}\n",
    "finally {\n",
    "    // optional code to be run at the end\n",
    "  console.log(\"Whether or not there is error, I will show up\");\n",
    "}\n",
    "```"
   ]
  }
 ],
 "metadata": {
  "language_info": {
   "name": "python"
  }
 },
 "nbformat": 4,
 "nbformat_minor": 2
}
