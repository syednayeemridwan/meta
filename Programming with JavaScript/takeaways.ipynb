{
 "cells": [
  {
   "cell_type": "markdown",
   "metadata": {},
   "source": [
    "# Week 1"
   ]
  },
  {
   "cell_type": "markdown",
   "metadata": {},
   "source": [
    "- `if else ` : Same as java\n",
    "- `switch ` : Same as java\n",
    "- `for loop ` : Same as java\n",
    "- `while loop ` : Same as java\n",
    "- String concatenation : Same as java\n",
    "- Logical operators : Same as java\n",
    "- Checking Equality with matching type : `===`\n",
    "- Concatenating with string will lead to string result : `12 + \" months\" // \"12 months\"`\n",
    "- Iterating through string as characters with styling: `console.log(\"%c\" + myString[i],styles)`"
   ]
  },
  {
   "cell_type": "markdown",
   "metadata": {},
   "source": []
  }
 ],
 "metadata": {
  "language_info": {
   "name": "python"
  }
 },
 "nbformat": 4,
 "nbformat_minor": 2
}
