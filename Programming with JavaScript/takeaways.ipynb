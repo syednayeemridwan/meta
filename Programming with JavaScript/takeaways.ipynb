{
 "cells": [
  {
   "cell_type": "markdown",
   "metadata": {},
   "source": [
    "# Week 1"
   ]
  },
  {
   "cell_type": "markdown",
   "metadata": {},
   "source": [
    "- `if else ` : Same as java\n",
    "- `switch ` : Same as java\n",
    "- `for loop ` : Same as java\n",
    "- `while loop ` : Same as java\n",
    "- String concatenation : Same as java\n",
    "- Logical operators : Same as java\n",
    "- Checking Equality with matching type : `===`\n",
    "- Concatenating with string will lead to string result : `12 + \" months\" // \"12 months\"`\n",
    "- Iterating through string as characters with styling: `console.log(\"%c\" + myString[i],styles)`"
   ]
  },
  {
   "cell_type": "markdown",
   "metadata": {},
   "source": [
    "# Week 2"
   ]
  },
  {
   "cell_type": "markdown",
   "metadata": {},
   "source": [
    "- Function:\n",
    "    - `function add(a, b) {return a + b; };`\n",
    "    - `const add = (a, b) => a + b;`\n",
    "    - You dont need to specify parameter type\n",
    "- Array:\n",
    "    - like python list\n",
    "    - `var fruits = ['Apple', 'Banana'];`\n",
    "- Object:\n",
    "    - Same as python dictionary\n",
    "    - key-value pair\n",
    "    - Can also use dot notation for property assignment\n",
    "- Although Strings act like arrays, they are not arrays.\n",
    "    - proof : `someString.pop()` will throw an error\n",
    "- type of variable : `typeof(varName);`\n",
    "- Bug : Program runs, but gives un-intentional result\n",
    "- Error : Program stops running\n",
    "- Throw error: `throw new ErrorName();`\n",
    "-  Defensive programming : \n",
    "    - assuming that things will go wrong and you are proactive in thinking about such scenarios before they happen, so as to make your function less likely to cause errors because of faulty inputs."
   ]
  },
  {
   "cell_type": "markdown",
   "metadata": {},
   "source": []
  }
 ],
 "metadata": {
  "language_info": {
   "name": "python"
  }
 },
 "nbformat": 4,
 "nbformat_minor": 2
}
