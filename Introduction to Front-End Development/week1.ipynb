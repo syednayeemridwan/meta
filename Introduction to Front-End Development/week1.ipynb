{
 "cells": [
  {
   "cell_type": "markdown",
   "metadata": {},
   "source": [
    "# How internet works"
   ]
  },
  {
   "cell_type": "markdown",
   "metadata": {},
   "source": [
    "- In a network, devises are connected to each other\n",
    "- Network switch allows this\n",
    "- These network switches are connected to other network switches\n",
    "- Lots of network switches together build an interconnected network, this is the internet\n",
    "- Servers are large computers connected this way. They have data center that run different services.\n",
    "- Clients are the smaller computers (your web browser) that connect to server for information\n",
    "- Clients request for information to servers via HTTP protocol\n",
    "- Server reply with a response (with a webpage)"
   ]
  },
  {
   "cell_type": "markdown",
   "metadata": {},
   "source": [
    "<center><img src=\"images/01.01.png\"  style=\"width: 400px, height: 300px;\"/></center>"
   ]
  },
  {
   "cell_type": "markdown",
   "metadata": {},
   "source": [
    "# Web Hosting"
   ]
  },
  {
   "cell_type": "markdown",
   "metadata": {},
   "source": [
    "- There are companies that rent their webserver. Placing website on a hosting company's webserver is web hosting.\n",
    "- Share hosting:\n",
    "    - share processing power of server with other websites\n",
    "    - cheap\n",
    "    - slow\n",
    "    - good for small websites\n",
    "- Virtual Private Server (VPS):\n",
    "    - Dedicated cpu, memory and bandwidth\n",
    "    - One website per VPS\n",
    "    - One hardware contains multiple VPS instances\n",
    "    - more expensive than shared hosting\n",
    "- Dedicated hosting\n",
    "    - Physical Hardware dedicated to serve a single website\n",
    "    - Whole hardware for one website\n",
    "    - More expensive than VPS\n",
    "- Cloud hosting\n",
    "    - Scalable resources\n",
    "    - Spans across multiple physical and virtual server (No data loss)\n",
    "    - No limit"
   ]
  },
  {
   "cell_type": "markdown",
   "metadata": {},
   "source": [
    "# How computer transmits data packages across internet"
   ]
  },
  {
   "cell_type": "markdown",
   "metadata": {},
   "source": [
    "- IP address are like house address (IPV4, IPV6)\n",
    "- Clients request for information\n",
    "- Server sends IP packets or datagrams to clients\n",
    "- These IP packets contain header (envelope) and payload (data and other protocols)\n",
    "- Just like postal mail, head contains destination IP and source IP\n",
    "- While on transport, just like postal mails, things can happen to IP packets\n",
    "    1. Out of order packets\n",
    "    2. Damaged packets\n",
    "    3. Lost packets\n",
    "- To solve these issues, the payload contains some protocols other than data as well. These are\n",
    "    1. TCP (Solve all three issues with some delay)\n",
    "    2. UDP (Solves corrupt package issue with some data loss)\n",
    "    "
   ]
  },
  {
   "cell_type": "markdown",
   "metadata": {},
   "source": [
    "# HTTP"
   ]
  },
  {
   "cell_type": "markdown",
   "metadata": {},
   "source": [
    "### Request"
   ]
  },
  {
   "cell_type": "markdown",
   "metadata": {},
   "source": [
    "<center><img src=\"images/01.02.png\"  style=\"width: 400px, height: 300px;\"/></center>"
   ]
  },
  {
   "cell_type": "markdown",
   "metadata": {},
   "source": [
    "- contains:\n",
    "    1. action method : What type of action client wants to perform with the resource\n",
    "        - `GET` : Retrieve\n",
    "        - `POST` : Send\n",
    "        - `PUT` : Update\n",
    "        - `DELETE` : Remove\n",
    "    2. path : Resource location\n",
    "    3. version : Version of protocol being used\n",
    "    4. headers : additional information about the request"
   ]
  },
  {
   "cell_type": "markdown",
   "metadata": {},
   "source": [
    "### Response"
   ]
  },
  {
   "cell_type": "markdown",
   "metadata": {},
   "source": [
    "<center><img src=\"images/01.04.png\"  style=\"width: 400px, height: 300px;\"/></center>\n"
   ]
  },
  {
   "cell_type": "markdown",
   "metadata": {},
   "source": [
    "- contains :\n",
    "    1. status codes : the status condition of response (successful / not found)\n",
    "    ...\n",
    "    5. message body : The contents"
   ]
  },
  {
   "cell_type": "markdown",
   "metadata": {},
   "source": [
    "# Developer Tools"
   ]
  },
  {
   "cell_type": "markdown",
   "metadata": {},
   "source": [
    "<center><img src=\"images/01.05.png\"  style=\"width: 400px, height: 300px;\"/></center>\n"
   ]
  },
  {
   "cell_type": "markdown",
   "metadata": {},
   "source": [
    "- Elements : HTML tags and their details\n",
    "- Console : Javascript logs and errors of webpage\n",
    "- Sources : Content resource of current page (html, css, js, image files)\n",
    "- Network : Time and details of HTTP request and response\n",
    "- Performance : Web browsers performance over time\n",
    "- Memory : Resource usage of codes"
   ]
  },
  {
   "cell_type": "markdown",
   "metadata": {},
   "source": [
    "# API"
   ]
  },
  {
   "cell_type": "markdown",
   "metadata": {},
   "source": [
    "<center><img src=\"images/01.06.png\"  style=\"width: 400px, height: 300px;\"/></center>\n",
    "<center><img src=\"images/01.07.png\"  style=\"width: 400px, height: 300px;\"/></center>\n"
   ]
  },
  {
   "cell_type": "markdown",
   "metadata": {},
   "source": [
    "- Gateway or middleware\n",
    "- The intermediary between different systems that allows communication\n",
    "- API endpoints are attached with URL.\n",
    "- Once the endpoints are hit, the required service is triggered\n",
    "- Different types of APIS:\n",
    "    1. Browser / Web API : Add new services (eg : DOM API)\n",
    "    2. REST API : provides ways for sending or receiving data from websites or web servers\n",
    "    3. Sensor-based API : Provides ways to track and response to physical data"
   ]
  }
 ],
 "metadata": {
  "language_info": {
   "name": "python"
  }
 },
 "nbformat": 4,
 "nbformat_minor": 2
}
