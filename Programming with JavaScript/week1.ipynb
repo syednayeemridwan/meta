{
 "cells": [
  {
   "cell_type": "markdown",
   "metadata": {},
   "source": [
    "# Primitive Types"
   ]
  },
  {
   "cell_type": "markdown",
   "metadata": {},
   "source": [
    "- String : text data\n",
    "- Number : numeric data\n",
    "- Boolean : `true` or `false`\n",
    "- Null : intentional absence of value (`void` in some other language)\n",
    "- Undefined : absence of value due to not yet being initialized\n",
    "- BigInt : Very big numeric value\n",
    "- Symbol : Works as a unique identifier"
   ]
  },
  {
   "cell_type": "markdown",
   "metadata": {},
   "source": [
    "# If-else"
   ]
  },
  {
   "cell_type": "markdown",
   "metadata": {},
   "source": [
    "```\n",
    "if (1==2) {\n",
    "    console.log(\"Execute if true\");\n",
    "} else {\n",
    "    console.log(\"Execute if false\");\n",
    "}\n",
    "```"
   ]
  },
  {
   "cell_type": "markdown",
   "metadata": {},
   "source": [
    "# Switch"
   ]
  },
  {
   "cell_type": "markdown",
   "metadata": {},
   "source": [
    "```\n",
    "var a=2;\n",
    "switch (a) {\n",
    "    case 1:\n",
    "        console.log('case 1 executed');\n",
    "        break;\n",
    "    case 2:\n",
    "        console.log(\"case 2 executed\");\n",
    "        break;\n",
    "   case 3:\n",
    "        console.log(\"case 3 executed\");\n",
    "        break;\n",
    "    case 4:\n",
    "        console.log(\"case 4 executed\");\n",
    "        break;\n",
    "    default:\n",
    "        console.log(\"default case executed\");\n",
    "}\n",
    "```"
   ]
  },
  {
   "cell_type": "markdown",
   "metadata": {},
   "source": [
    "# For loop"
   ]
  },
  {
   "cell_type": "markdown",
   "metadata": {},
   "source": [
    "```\n",
    "for (let i = 0; i < 10; i++) {\n",
    "\tconsole.log(i);\n",
    "}\n",
    "\n",
    "```"
   ]
  },
  {
   "cell_type": "markdown",
   "metadata": {},
   "source": [
    "# While Loop"
   ]
  },
  {
   "cell_type": "markdown",
   "metadata": {},
   "source": [
    "```\n",
    "let b = 0;\n",
    "while (b < 10) {\n",
    "  console.log(b);\n",
    "  b++;\n",
    "}\n",
    "```"
   ]
  },
  {
   "cell_type": "markdown",
   "metadata": {},
   "source": [
    "# Adding styling with Javascript code"
   ]
  },
  {
   "cell_type": "markdown",
   "metadata": {},
   "source": [
    "```\n",
    "var cubes = 'ABCDEFG';\n",
    "//styling console output using CSS with a %c format specifier\n",
    "for (var i = 0; i < cubes.length; i++) {\n",
    "    var styles = \"font-size: 40px; border-radius: 10px; border: 1px solid blue; background: pink; color: purple\";\n",
    "    console.log(\"%c\" + cubes[i], styles)\n",
    "}\n",
    "```"
   ]
  }
 ],
 "metadata": {
  "language_info": {
   "name": "python"
  }
 },
 "nbformat": 4,
 "nbformat_minor": 2
}
