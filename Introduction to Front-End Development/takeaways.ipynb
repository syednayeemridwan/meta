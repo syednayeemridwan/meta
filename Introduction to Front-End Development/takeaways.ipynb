{
 "cells": [
  {
   "cell_type": "markdown",
   "metadata": {},
   "source": [
    "# Week 1"
   ]
  },
  {
   "cell_type": "markdown",
   "metadata": {},
   "source": [
    "- website = multiple webpages linked together and belong to the same domain address\n",
    "- web application = more interactive version of website. While the website is generic, the webpage is customer specific customized version of webpage.\n",
    "- html = structure of contents\n",
    "- css = styling\n",
    "- javascript = user interactivity\n",
    "- page rendetring = when page is loaded in browser, each line is processed sequentially and then browser shows the output\n",
    "- HTTP = when browser and server communicate, they use this protocol to talk to each other\n",
    "- HTTPS = secured version of HTTP. a layer of encryption is involved to encrypt transmitted data.\n",
    "- Web hosting = placing website files on a hosting company's webserver\n",
    "- Library : Re-usable code as functions\n",
    "- Framework : Blueprint for building code with common functionalities\n",
    "- API = middleware. How different systems communicate with each other."
   ]
  }
 ],
 "metadata": {
  "language_info": {
   "name": "python"
  }
 },
 "nbformat": 4,
 "nbformat_minor": 2
}
