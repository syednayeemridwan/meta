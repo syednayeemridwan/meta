{
 "cells": [
  {
   "cell_type": "markdown",
   "metadata": {},
   "source": [
    "# Week 1"
   ]
  },
  {
   "cell_type": "markdown",
   "metadata": {},
   "source": [
    "- website = multiple webpages linked together and belong to the same domain address\n",
    "- web application = more interactive version of website. While the website is generic, the webpage is customer specific customized version of webpage.\n",
    "- html = structure of contents\n",
    "- css = styling\n",
    "- javascript = user interactivity\n",
    "- page rendetring = when page is loaded in browser, each line is processed sequentially and then browser shows the output\n",
    "- HTTP = when browser and server communicate, they use this protocol to talk to each other\n",
    "- HTTPS = secured version of HTTP. a layer of encryption is involved to encrypt transmitted data.\n",
    "- Web hosting = placing website files on a hosting company's webserver\n",
    "- Library : Re-usable code as functions\n",
    "- Framework : Blueprint for building code with common functionalities\n",
    "- API = middleware. How different systems communicate with each other."
   ]
  },
  {
   "cell_type": "markdown",
   "metadata": {},
   "source": [
    "# Week 2"
   ]
  },
  {
   "cell_type": "markdown",
   "metadata": {},
   "source": [
    "- DOM = tree-like structure of HTML elements as objects\n",
    "- `id` = unique identified of an HTML element\n",
    "- `name` = groups together multiple html elements\n",
    "- `value` = Sends value of an `input` element to server \n",
    "- `for` = binds with an `id` of an html element to make it clickable\n",
    "- inline elements : Takes only content width\n",
    "- block elements : Takes full horizontal width"
   ]
  },
  {
   "cell_type": "markdown",
   "metadata": {},
   "source": [
    "# Week 3"
   ]
  },
  {
   "cell_type": "markdown",
   "metadata": {},
   "source": [
    "- CSS is in `<head>` tag\n",
    "- JS is at the end of `<body>` tag\n",
    "- Bootstrap has 12 grids / columns\n",
    "- Use bootstrap with : `<div class=\"className\">`\n",
    "- All bootstrap elements should be inside root class `<div class=\"container\">`\n",
    "- `container` should have `row` : `<div class=\"row\">`\n",
    "- `row` should have `col` : `<div class=\"col\">`\n",
    "- Put grids in middle of a row : `<div class=\"row justify-content-center\">`\n",
    "- Put can 3 columns in a row : `<div class=\"row row-cols-3\">`\n",
    "- Put can define auto column numbers in a row : `<div class=\"row row-cols-auto\">`\n",
    "- Tag takes 6 column worth of space: `<div class=\"col-6\">`\n",
    "- Adjust column size automatically : `<div class=\"col-auto\">`\n",
    "- Apply breakpoint for particular device: `<div class=\"col-sm-6\">` \n",
    "    - This column will adapt for whole single row for that single column\n",
    "- use `<img src=\"...\" class=\"img-fluid\"` to fit image in a `div` or the parent element\n",
    "- `role` in bootstrap explains behavior of the element\n",
    "- Static contents : \n",
    "    - Contents that are available on the server\n",
    "- Dynamic contents : \n",
    "    - Contents that are available on HTTP request by the user\n",
    "    - Behind the scene, web server communicates with application server.\n",
    "    - The application server generates the dynamic content and gives it to web server to pass it to the browser\n",
    "    - while web server only do request and response, application server runs all the complex logics\n",
    "- SPA:\n",
    "    - Only one html page\n",
    "    - Update many contents\n",
    "    - Downloaded only once\n",
    "    - Next time only the DOM is manipulated instead of re-downloading\n",
    "    - Only the necessary contents/resources are downloaded upon request\n"
   ]
  }
 ],
 "metadata": {
  "language_info": {
   "name": "python"
  }
 },
 "nbformat": 4,
 "nbformat_minor": 2
}
