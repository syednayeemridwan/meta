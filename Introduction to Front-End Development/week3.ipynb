{
 "cells": [
  {
   "cell_type": "markdown",
   "metadata": {},
   "source": [
    "# Dependency and bundle"
   ]
  },
  {
   "cell_type": "markdown",
   "metadata": {},
   "source": [
    "- Referred to package , library and frameworks that your code uses\n",
    "- One dependency may also depend on other dependencies\n",
    "- This calls for a manager to manage all these dependencies\n",
    "- If a dependency is not available, the manager will download and install that dependency\n",
    "- eg: npm or node package manager is a dependency manager\n",
    "- All these dependency resources should be bundled together for optimized performance\n",
    "- The tools that deals with this is called bundling tools\n",
    "- eg : gulp, webpack"
   ]
  },
  {
   "cell_type": "markdown",
   "metadata": {},
   "source": [
    "### Responsive Design "
   ]
  },
  {
   "cell_type": "markdown",
   "metadata": {},
   "source": [
    "- Website fits the device that is used to access it\n",
    "- Multiple pixels are combined into one logical pixel for specified device\n",
    "- 3 techniques:\n",
    "    1. Flexible grids : in percentage values\n",
    "        - column : screen split into multiple vertical portions\n",
    "        - gutter : space between columns\n",
    "        - margins : left and right edge of screen\n",
    "    2. Fluid images:\n",
    "        - set maximum or minimum CSS property of image with percentage\n",
    "        - eg : `max-width : 100%`\n",
    "        - It will scale down if the grid become smaller, but it will never be overflown\n",
    "    3. Media queries :\n",
    "        - Allows developer to query display size, orientation and aspect ratio\n",
    "        - CSS rule\n",
    "        - example : `@media only screen and (max-width: 700px){...}`\n",
    "- Breakpoint :\n",
    "    -  pixel value specified for different size of devices.  \n",
    "    - eg: Bootstrap breakpoints: extra small, large, extra large etc.\n",
    "- function around 3 grids\n",
    "    1. Fixed grid : column widths are fixed, margin is flexible (Remaining space is occupied by margin)\n",
    "    2. Fluid grid : column widths can grow or shrink to adapt, gutter is fixed\n",
    "    3. Hybrid grid: Columns have both fluid width and fixed width components\n"
   ]
  },
  {
   "cell_type": "markdown",
   "metadata": {},
   "source": [
    "### Other libraries like bootstrap"
   ]
  },
  {
   "cell_type": "markdown",
   "metadata": {},
   "source": [
    "- Tailwind\n",
    "- MVP.css\n",
    "- UIKit \n",
    "- Pure.css\n",
    "- Foundation"
   ]
  },
  {
   "cell_type": "markdown",
   "metadata": {},
   "source": [
    "# React"
   ]
  },
  {
   "cell_type": "markdown",
   "metadata": {},
   "source": [
    "- SPA (Single Page Application) Library : allow users to interact with a website without re-downloading the entire webpage.\n",
    "- JS library for building composable user interfaces. \n",
    "- Each small User interface is composed of smaller component\n",
    "- A React application is built up of a tree of components called the Component hierarchy\n",
    "- Each component is easier to extend, maintain, and test\n",
    "- Workflow:\n",
    "    - When component is initialized, `render` method is called\n",
    "    - When components are updated, `render`  method is called again\n",
    "    - Minimum changes are applied by comparing new `render` with the previous `render`\n",
    "    - This process is called reconciliation.\n",
    "- JavaScript libraries commonly used with React:\n",
    "    - lodash : library to perform common logical JS operations\n",
    "    - Axios : used for communicating with APIs over HTTP\n",
    "    - redux : keep track of its state\n",
    "    - luxon : Used for working with dates and times \n",
    "    - Jest : automated tests"
   ]
  },
  {
   "cell_type": "markdown",
   "metadata": {},
   "source": [
    "# The React Virtual DOM"
   ]
  },
  {
   "cell_type": "markdown",
   "metadata": {},
   "source": [
    "- React builds a DOM in memory just like browser DOM\n",
    "- When components are updated, React's virtual DOM is updated\n",
    "- React also remembers previous Virtual DOM\n",
    "- React compares updated virtual DOM with previous virtual DOM\n",
    "- The changed elements are identified and updated in the browser DOM\n",
    "- Thus, React checks if the component’s virtual DOM matches the browser DOM and updates the browser DOM accordingly\n",
    "- The displayed webpage updates to match the browser DOM.\n",
    "- Still, too many DOM updates may cause slow performance issues\n",
    "- React Fiber Architecture :  Instead of immediately updating the browser DOM with all virtual DOM changes, incrementally spread the update over time (updated according to priority).\n"
   ]
  },
  {
   "cell_type": "markdown",
   "metadata": {},
   "source": []
  },
  {
   "cell_type": "markdown",
   "metadata": {},
   "source": []
  }
 ],
 "metadata": {
  "language_info": {
   "name": "python"
  }
 },
 "nbformat": 4,
 "nbformat_minor": 2
}
